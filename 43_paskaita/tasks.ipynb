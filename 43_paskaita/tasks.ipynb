{
 "cells": [
  {
   "cell_type": "code",
   "execution_count": 1,
   "metadata": {},
   "outputs": [],
   "source": [
    "import pdfplumber\n",
    "from sklearn.model_selection import train_test_split\n",
    "from sklearn.feature_extraction.text import TfidfVectorizer\n",
    "from sklearn.naive_bayes import MultinomialNB\n",
    "from sklearn.metrics import accuracy_score\n",
    "from sklearn.pipeline import make_pipeline\n",
    "from string import punctuation\n",
    "import pandas as pd\n",
    "from sklearn.ensemble import RandomForestClassifier\n",
    "from sklearn.preprocessing import StandardScaler"
   ]
  },
  {
   "cell_type": "code",
   "execution_count": 2,
   "metadata": {},
   "outputs": [],
   "source": [
    "## Uždavinys 1: Spam ir ne-spam klasifikavimas\n",
    "\n",
    "# Jūs turite el. laiškų rinkinį, kuriame yra paženklinti el. laiškai kaip \"spam\" arba \"ne-spam\". \n",
    "# Naudokite Naive Bayes algoritmą, kad sukurtumėte modelį, kuris galėtų klasifikuoti naujus el. laiškus.\n",
    "\n",
    "# Naudokite duomenis iš šio šaltinio: https://archive.ics.uci.edu/dataset/228/sms+spam+collection\n",
    "\n",
    "# Įkelkite duomenis ir atlikite išankstinį apdorojimą (aptvarkykite duomenis, pasirinkite tik tai ko jums reikia).\n",
    "# Padalinkite duomenis į mokymosi ir testavimo rinkinius.\n",
    "# Sukurkite Naive Bayes modelį naudojant scikit-learn.\n",
    "# Įvertinkite modelio tikslumą naudodami testavimo rinkinį."
   ]
  },
  {
   "cell_type": "code",
   "execution_count": 10,
   "metadata": {},
   "outputs": [
    {
     "name": "stdout",
     "output_type": "stream",
     "text": [
      "747\n",
      "747\n",
      "0.9545454545454546\n",
      "['spam']\n",
      "['ham']\n",
      "['spam']\n"
     ]
    }
   ],
   "source": [
    "with open('SMSSpamCollection.txt', 'r', encoding='utf-8') as f:\n",
    "    sms = f.read()\n",
    "\n",
    "straipsniai = sms.split(' ')\n",
    "\n",
    "ham_list = []\n",
    "spam_list = []\n",
    "\n",
    "\n",
    "lines = sms.split('\\n')\n",
    "\n",
    "\n",
    "for x in lines:\n",
    "    if x.startswith(\"ham\\t\"):\n",
    "        ham_list.append(x[4:])\n",
    "    elif x.startswith(\"spam\\t\"):\n",
    "        spam_list.append(x[5:])\n",
    "\n",
    "ham_list = ham_list[:747]\n",
    "\n",
    "print(len(ham_list))\n",
    "print(len(spam_list))\n",
    "\n",
    "data = ham_list + spam_list\n",
    "\n",
    "labels = [\"ham\"] * len(ham_list) + ['spam'] * len(spam_list)\n",
    "\n",
    "X_train, X_test, y_train, y_test = train_test_split(data, labels)\n",
    "model = make_pipeline(TfidfVectorizer(), MultinomialNB())\n",
    "model.fit(X_train, y_train)\n",
    "\n",
    "y_pred = model.predict(X_test)\n",
    "print(accuracy_score(y_pred, y_test))\n",
    "\n",
    "def guess_ham_or_scam(text):\n",
    "    return model.predict([text])\n",
    "\n",
    "print(guess_ham_or_scam('Congrats you are the winer'))\n",
    "print(guess_ham_or_scam('Hello Sussan how are you?'))\n",
    "print(guess_ham_or_scam('asddss adfdfs asd adsa dfdgsd s dfs'))\n"
   ]
  },
  {
   "cell_type": "code",
   "execution_count": 4,
   "metadata": {},
   "outputs": [],
   "source": [
    "## Uždavinys 2\n",
    "\n",
    "# Turite Twitter žinutes, kurios yra paženklintos kaip \"positive\" arba \"negative\". \n",
    "# Naudokite Naive Bayes algoritmą, kad sukurtumėte modelį, kuris galėtų nustatyti naujų žinučių segmentą (ar žinutė yra negative ar positive).\n",
    "\n",
    "# Naudokite duomenis iš šio šaltinio: https://www.kaggle.com/datasets/kazanova/sentiment140"
   ]
  },
  {
   "cell_type": "code",
   "execution_count": 5,
   "metadata": {},
   "outputs": [
    {
     "name": "stdout",
     "output_type": "stream",
     "text": [
      "0.7724125\n"
     ]
    }
   ],
   "source": [
    "with open('training.1600000.processed.noemoticon.csv', 'r', encoding='utf-8') as f:\n",
    "    messages = f.read()\n",
    "\n",
    "positive = []\n",
    "negative = []\n",
    "\n",
    "lines = messages.split('\\n')\n",
    "\n",
    "for line in lines:\n",
    "    parts = line.strip().split('\",\"')\n",
    "    if parts[0].strip('\"') == '0':\n",
    "        negative.append(parts[-1].strip('\"'))  \n",
    "    elif parts[0].strip('\"') == '4':\n",
    "        positive.append(parts[-1].strip('\"'))  \n",
    "\n",
    "data = negative + positive\n",
    "\n",
    "labels = [\"negative\"] * len(negative) + ['positive'] * len(positive)\n",
    "\n",
    "X_train, X_test, y_train, y_test = train_test_split(data, labels)\n",
    "model = make_pipeline(TfidfVectorizer(), MultinomialNB())\n",
    "model.fit(X_train, y_train)\n",
    "\n",
    "y_pred = model.predict(X_test)\n",
    "print(accuracy_score(y_pred, y_test))"
   ]
  },
  {
   "cell_type": "code",
   "execution_count": 6,
   "metadata": {},
   "outputs": [
    {
     "name": "stdout",
     "output_type": "stream",
     "text": [
      "0.7718075\n"
     ]
    }
   ],
   "source": [
    "X_train, X_test, y_train, y_test = train_test_split(data, labels)\n",
    "model = make_pipeline(TfidfVectorizer(), MultinomialNB())\n",
    "model.fit(X_train, y_train)\n",
    "\n",
    "y_pred = model.predict(X_test)\n",
    "print(accuracy_score(y_pred, y_test))"
   ]
  },
  {
   "cell_type": "code",
   "execution_count": 7,
   "metadata": {},
   "outputs": [
    {
     "name": "stdout",
     "output_type": "stream",
     "text": [
      "['negative']\n",
      "['negative']\n",
      "['positive']\n",
      "['positive']\n"
     ]
    }
   ],
   "source": [
    "def guess_comment(text):\n",
    "    return model.predict([text])\n",
    "\n",
    "print(guess_comment('Today is bad day because of the rain'))\n",
    "print(guess_comment('You are ugly'))\n",
    "print(guess_comment('You are beutifull'))\n",
    "print(guess_comment('Im happy because i bought new car'))\n"
   ]
  },
  {
   "cell_type": "code",
   "execution_count": 8,
   "metadata": {},
   "outputs": [],
   "source": [
    "## Uždavinys 3\n",
    "\n",
    "# Turite vyno kokybės duomenų rinkinį, kur vynai yra paženklinti kaip \"gera\" arba \"bloga\" kokybė. \n",
    "# Naudokite Naive Bayes algoritmą, kad sukurtumėte modelį, kuris galėtų klasifikuoti vyno kokybę.\n",
    "\n",
    "# Naudokite duomenis iš šio šaltinio: https://archive.ics.uci.edu/dataset/186/wine+quality"
   ]
  },
  {
   "cell_type": "code",
   "execution_count": 9,
   "metadata": {},
   "outputs": [
    {
     "name": "stdout",
     "output_type": "stream",
     "text": [
      "744\n",
      "744\n",
      "1.0\n"
     ]
    }
   ],
   "source": [
    "wine_lst = pd.read_csv('winequality_red.csv', sep=';')\n",
    "\n",
    "def converter(var):\n",
    "    integer = [int(x) for x in var]\n",
    "    return integer\n",
    "\n",
    "wine_lst_quality = converter(wine_lst['quality'])\n",
    "# print(wine_lst_quality)\n",
    "\n",
    "good_quality = []\n",
    "bad_quality = []\n",
    "\n",
    "for wine in wine_lst_quality:\n",
    "    if wine >= 6:\n",
    "        good_quality.append(wine)\n",
    "    else:\n",
    "        bad_quality.append(wine)\n",
    "\n",
    "good_quality = good_quality[:744]\n",
    "print(len(good_quality))\n",
    "print(len(bad_quality))\n",
    "\n",
    "\n",
    "\n",
    "data = good_quality + bad_quality\n",
    "\n",
    "labels = [\"good_quality\"] * len(good_quality) + ['bad_quality'] * len(bad_quality)\n",
    "\n",
    "X = [[x] for x in data]\n",
    "\n",
    "X_train, X_test, y_train, y_test = train_test_split(X, labels, test_size=0.2, random_state=42)\n",
    "\n",
    "model = make_pipeline(StandardScaler(), RandomForestClassifier())\n",
    "model.fit(X_train, y_train)\n",
    "\n",
    "y_pred = model.predict(X_test)\n",
    "print(accuracy_score(y_pred, y_test))"
   ]
  },
  {
   "cell_type": "code",
   "execution_count": null,
   "metadata": {},
   "outputs": [],
   "source": [
    "## Uždavinys 4\n",
    "\n",
    "# Turite namų kainų duomenų rinkinį, kuriame pateikiamos įvairios savybės (plotas, kambarių skaičius ir t.t.). \n",
    "# Naudokite Linear Regression algoritmą, kad sukurtumėte modelį, kuris galėtų prognozuoti namų kainas.\n",
    "\n",
    "# Naudokite duomenis iš šio šaltinio: https://www.kaggle.com/datasets/vikrishnan/boston-house-prices"
   ]
  },
  {
   "cell_type": "code",
   "execution_count": 15,
   "metadata": {},
   "outputs": [
    {
     "name": "stderr",
     "output_type": "stream",
     "text": [
      "<>:2: SyntaxWarning: invalid escape sequence '\\s'\n",
      "<>:2: SyntaxWarning: invalid escape sequence '\\s'\n",
      "C:\\Users\\sarun\\AppData\\Local\\Temp\\ipykernel_9524\\3068016416.py:2: SyntaxWarning: invalid escape sequence '\\s'\n",
      "  df = pd.read_csv('housing.csv', sep='\\s+', names=column_names)\n"
     ]
    },
    {
     "data": {
      "text/html": [
       "<div>\n",
       "<style scoped>\n",
       "    .dataframe tbody tr th:only-of-type {\n",
       "        vertical-align: middle;\n",
       "    }\n",
       "\n",
       "    .dataframe tbody tr th {\n",
       "        vertical-align: top;\n",
       "    }\n",
       "\n",
       "    .dataframe thead th {\n",
       "        text-align: right;\n",
       "    }\n",
       "</style>\n",
       "<table border=\"1\" class=\"dataframe\">\n",
       "  <thead>\n",
       "    <tr style=\"text-align: right;\">\n",
       "      <th></th>\n",
       "      <th>CRIM</th>\n",
       "      <th>ZN</th>\n",
       "      <th>INDUS</th>\n",
       "      <th>CHAS</th>\n",
       "      <th>NOX</th>\n",
       "      <th>RM</th>\n",
       "      <th>AGE</th>\n",
       "      <th>DIS</th>\n",
       "      <th>RAD</th>\n",
       "      <th>TAX</th>\n",
       "      <th>PTRATIO</th>\n",
       "      <th>B</th>\n",
       "      <th>LSTAT</th>\n",
       "      <th>MEDV</th>\n",
       "    </tr>\n",
       "  </thead>\n",
       "  <tbody>\n",
       "    <tr>\n",
       "      <th>0</th>\n",
       "      <td>0.00632</td>\n",
       "      <td>18.0</td>\n",
       "      <td>2.31</td>\n",
       "      <td>0</td>\n",
       "      <td>0.538</td>\n",
       "      <td>6.575</td>\n",
       "      <td>65.2</td>\n",
       "      <td>4.0900</td>\n",
       "      <td>1</td>\n",
       "      <td>296.0</td>\n",
       "      <td>15.3</td>\n",
       "      <td>396.90</td>\n",
       "      <td>4.98</td>\n",
       "      <td>24.0</td>\n",
       "    </tr>\n",
       "    <tr>\n",
       "      <th>1</th>\n",
       "      <td>0.02731</td>\n",
       "      <td>0.0</td>\n",
       "      <td>7.07</td>\n",
       "      <td>0</td>\n",
       "      <td>0.469</td>\n",
       "      <td>6.421</td>\n",
       "      <td>78.9</td>\n",
       "      <td>4.9671</td>\n",
       "      <td>2</td>\n",
       "      <td>242.0</td>\n",
       "      <td>17.8</td>\n",
       "      <td>396.90</td>\n",
       "      <td>9.14</td>\n",
       "      <td>21.6</td>\n",
       "    </tr>\n",
       "    <tr>\n",
       "      <th>2</th>\n",
       "      <td>0.02729</td>\n",
       "      <td>0.0</td>\n",
       "      <td>7.07</td>\n",
       "      <td>0</td>\n",
       "      <td>0.469</td>\n",
       "      <td>7.185</td>\n",
       "      <td>61.1</td>\n",
       "      <td>4.9671</td>\n",
       "      <td>2</td>\n",
       "      <td>242.0</td>\n",
       "      <td>17.8</td>\n",
       "      <td>392.83</td>\n",
       "      <td>4.03</td>\n",
       "      <td>34.7</td>\n",
       "    </tr>\n",
       "    <tr>\n",
       "      <th>3</th>\n",
       "      <td>0.03237</td>\n",
       "      <td>0.0</td>\n",
       "      <td>2.18</td>\n",
       "      <td>0</td>\n",
       "      <td>0.458</td>\n",
       "      <td>6.998</td>\n",
       "      <td>45.8</td>\n",
       "      <td>6.0622</td>\n",
       "      <td>3</td>\n",
       "      <td>222.0</td>\n",
       "      <td>18.7</td>\n",
       "      <td>394.63</td>\n",
       "      <td>2.94</td>\n",
       "      <td>33.4</td>\n",
       "    </tr>\n",
       "    <tr>\n",
       "      <th>4</th>\n",
       "      <td>0.06905</td>\n",
       "      <td>0.0</td>\n",
       "      <td>2.18</td>\n",
       "      <td>0</td>\n",
       "      <td>0.458</td>\n",
       "      <td>7.147</td>\n",
       "      <td>54.2</td>\n",
       "      <td>6.0622</td>\n",
       "      <td>3</td>\n",
       "      <td>222.0</td>\n",
       "      <td>18.7</td>\n",
       "      <td>396.90</td>\n",
       "      <td>5.33</td>\n",
       "      <td>36.2</td>\n",
       "    </tr>\n",
       "  </tbody>\n",
       "</table>\n",
       "</div>"
      ],
      "text/plain": [
       "      CRIM    ZN  INDUS  CHAS    NOX     RM   AGE     DIS  RAD    TAX  \\\n",
       "0  0.00632  18.0   2.31     0  0.538  6.575  65.2  4.0900    1  296.0   \n",
       "1  0.02731   0.0   7.07     0  0.469  6.421  78.9  4.9671    2  242.0   \n",
       "2  0.02729   0.0   7.07     0  0.469  7.185  61.1  4.9671    2  242.0   \n",
       "3  0.03237   0.0   2.18     0  0.458  6.998  45.8  6.0622    3  222.0   \n",
       "4  0.06905   0.0   2.18     0  0.458  7.147  54.2  6.0622    3  222.0   \n",
       "\n",
       "   PTRATIO       B  LSTAT  MEDV  \n",
       "0     15.3  396.90   4.98  24.0  \n",
       "1     17.8  396.90   9.14  21.6  \n",
       "2     17.8  392.83   4.03  34.7  \n",
       "3     18.7  394.63   2.94  33.4  \n",
       "4     18.7  396.90   5.33  36.2  "
      ]
     },
     "execution_count": 15,
     "metadata": {},
     "output_type": "execute_result"
    }
   ],
   "source": [
    "column_names = [ \"CRIM\", \"ZN\", \"INDUS\", \"CHAS\", \"NOX\", \"RM\", \"AGE\", \"DIS\", \"RAD\", \"TAX\", \"PTRATIO\", \"B\", \"LSTAT\", \"MEDV\"]\n",
    "df = pd.read_csv('housing.csv', sep='\\s+', names=column_names)\n",
    "df.head()"
   ]
  },
  {
   "cell_type": "code",
   "execution_count": 16,
   "metadata": {},
   "outputs": [
    {
     "name": "stdout",
     "output_type": "stream",
     "text": [
      "24.291119474973534\n"
     ]
    },
    {
     "data": {
      "image/png": "[encoded data removed]",
      "text/plain": [
       "<Figure size 640x480 with 1 Axes>"
      ]
     },
     "metadata": {},
     "output_type": "display_data"
    }
   ],
   "source": [
    "from sklearn.linear_model import LinearRegression\n",
    "from sklearn.metrics import mean_squared_error\n",
    "import matplotlib.pyplot as plt\n",
    "X = df.drop(columns=['MEDV'])\n",
    "y = df['MEDV']\n",
    "X_train, X_test, y_train, y_test = train_test_split(X, y, test_size=0.2, random_state=42)\n",
    "model = LinearRegression()\n",
    "model.fit(X_train, y_train)\n",
    "y_pred = model.predict(X_test)\n",
    "# print(y_pred)\n",
    "mse = mean_squared_error(y_pred, y_test)\n",
    "print(mse)\n",
    "plt.scatter(y_test, y_pred, )\n",
    "# plt.plot([y_test.min(), y_test.max()], [y_pred.min(), y_pred.max()])\n",
    "plt.plot([y_test.min(), y_test.max()], [y_test.min(), y_test.max()])\n",
    "plt.grid()\n",
    "plt.show()"
   ]
  }
 ],
 "metadata": {
  "kernelspec": {
   "display_name": "mokymai",
   "language": "python",
   "name": "python3"
  },
  "language_info": {
   "codemirror_mode": {
    "name": "ipython",
    "version": 3
   },
   "file_extension": ".py",
   "mimetype": "text/x-python",
   "name": "python",
   "nbconvert_exporter": "python",
   "pygments_lexer": "ipython3",
   "version": "3.12.2"
  }
 },
 "nbformat": 4,
 "nbformat_minor": 2
}
