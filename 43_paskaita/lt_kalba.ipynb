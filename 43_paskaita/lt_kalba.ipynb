{
 "cells": [
  {
   "cell_type": "code",
   "execution_count": 66,
   "metadata": {},
   "outputs": [
    {
     "name": "stdout",
     "output_type": "stream",
     "text": [
      "1.0\n"
     ]
    }
   ],
   "source": [
    "import pdfplumber\n",
    "from sklearn.model_selection import train_test_split\n",
    "from sklearn.feature_extraction.text import TfidfVectorizer\n",
    "from sklearn.naive_bayes import MultinomialNB\n",
    "from sklearn.metrics import accuracy_score\n",
    "from sklearn.pipeline import make_pipeline\n",
    "\n",
    "\n",
    "def pdf_reader(road_to_pdf):\n",
    "    text = []\n",
    "    with pdfplumber.open(road_to_pdf) as pdf:\n",
    "        for page in pdf.pages:\n",
    "            page_text = page.extract_text()\n",
    "            if page_text:\n",
    "                text.append(page_text)\n",
    "    return text\n",
    "            \n",
    "def fix_text(text):\n",
    "    fixed_text = [page.replace('-\\n', '').replace('\\n', ' ') for page in text]\n",
    "    return fixed_text\n",
    "\n",
    "LT_text = pdf_reader('baltaragio_malunas.pdf')\n",
    "LT_pages = LT_text[3:]\n",
    "# print(LT_pages)\n",
    "EN_text = pdf_reader('SherlockHolmesComplete.pdf')\n",
    "EN_pages = EN_text\n",
    "# print(EN_pages)\n",
    "\n",
    "fixed_lt_text = fix_text(LT_pages)\n",
    "lt_labels = ['lt' for page in fixed_lt_text]\n",
    "\n",
    "\n",
    "fixed_en_text = fix_text(EN_pages)\n",
    "en_labels = ['en' for page in fixed_en_text]\n",
    "\n",
    "lt_en_pages = fixed_lt_text + fixed_en_text\n",
    "lt_en_labels = lt_labels + en_labels\n",
    "\n",
    "\n",
    "X_train, X_test, y_train, y_test = train_test_split(lt_en_pages, lt_en_labels)\n",
    "model = make_pipeline(TfidfVectorizer(), MultinomialNB())\n",
    "model.fit(X_train, y_train)\n",
    "\n",
    "y_pred = model.predict(X_test)\n",
    "print(accuracy_score(y_pred, y_test))"
   ]
  },
  {
   "cell_type": "code",
   "execution_count": 57,
   "metadata": {},
   "outputs": [
    {
     "name": "stdout",
     "output_type": "stream",
     "text": [
      "0.9887640449438202\n"
     ]
    }
   ],
   "source": [
    "X_train, X_test, y_train, y_test = train_test_split(lt_en_pages, lt_en_labels)\n",
    "model = make_pipeline(TfidfVectorizer(), MultinomialNB())\n",
    "model.fit(X_train, y_train)\n",
    "\n",
    "y_pred = model.predict(X_test)\n",
    "print(accuracy_score(y_pred, y_test))"
   ]
  },
  {
   "cell_type": "code",
   "execution_count": 65,
   "metadata": {},
   "outputs": [
    {
     "name": "stdout",
     "output_type": "stream",
     "text": [
      "['lt']\n",
      "['lt']\n",
      "['lt']\n"
     ]
    }
   ],
   "source": [
    "def guess_language(text):\n",
    "    return model.predict([text])\n",
    "\n",
    "print(guess_language('ačiū'))\n",
    "print(guess_language('cow'))\n",
    "print(guess_language('Thanks you, it was a pleasure'))"
   ]
  }
 ],
 "metadata": {
  "kernelspec": {
   "display_name": "mokymai",
   "language": "python",
   "name": "python3"
  },
  "language_info": {
   "codemirror_mode": {
    "name": "ipython",
    "version": 3
   },
   "file_extension": ".py",
   "mimetype": "text/x-python",
   "name": "python",
   "nbconvert_exporter": "python",
   "pygments_lexer": "ipython3",
   "version": "3.12.2"
  }
 },
 "nbformat": 4,
 "nbformat_minor": 2
}
