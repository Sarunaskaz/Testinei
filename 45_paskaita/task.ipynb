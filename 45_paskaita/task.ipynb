{
 "cells": [
  {
   "cell_type": "code",
   "execution_count": null,
   "metadata": {},
   "outputs": [],
   "source": [
    "# ## 1 Užduotis\n",
    "\n",
    "# Panaudokite Grid Search, Random Search ir Bayes optimizavimą vienam iš savo anksčiau naudotų datasetų, \n",
    "# jog surastumėte didžiausią tikslumą ir geriausius hiperparametrus"
   ]
  },
  {
   "cell_type": "code",
   "execution_count": 1,
   "metadata": {},
   "outputs": [],
   "source": [
    "import numpy as np\n",
    "from sklearn.model_selection import train_test_split\n",
    "import matplotlib.pyplot as plt\n",
    "from sklearn.linear_model import LogisticRegression\n",
    "from sklearn.metrics import accuracy_score, confusion_matrix, classification_report\n",
    "import pandas as pd\n",
    "from sklearn.preprocessing import StandardScaler\n",
    "from hyperopt import fmin, tpe, hp, Trials\n",
    "from hyperopt.pyll.base import scope\n",
    "from sklearn.ensemble import RandomForestClassifier\n",
    "from sklearn.datasets import load_iris\n",
    "from sklearn.model_selection import cross_val_score\n",
    "from sklearn.model_selection import GridSearchCV"
   ]
  },
  {
   "cell_type": "code",
   "execution_count": 3,
   "metadata": {},
   "outputs": [
    {
     "name": "stdout",
     "output_type": "stream",
     "text": [
      "Geriausi parametrai: {'max_depth': 10, 'min_samples_split': 5, 'n_estimators': 10}\n",
      "Geriausias tikslumas: 0.9666666666666666\n"
     ]
    }
   ],
   "source": [
    "data = pd.read_csv('data.csv', sep=',')\n",
    "\n",
    "data = data.drop(['Unnamed: 32', 'id'], axis=1)\n",
    "\n",
    "\n",
    "data['diagnosis'] = data['diagnosis'].apply(lambda x: 1 if x == 'M' else 0)\n",
    "\n",
    "X = data.drop('diagnosis', axis=1)\n",
    "y = data['diagnosis']\n",
    "X_train, X_test, y_train, y_test = train_test_split(X, y)\n",
    "\n",
    "model = RandomForestClassifier()\n",
    "\n",
    "param_grid = {\n",
    "    'n_estimators': [10, 50, 100, 200], # medziu kiekis\n",
    "    'max_depth': [None, 10, 20], # sprendimu kiekis medyje\n",
    "    'min_samples_split': [2, 5, 10] # minimalus pavyzdžių kiekis\n",
    "}\n",
    "\n",
    "grid_search = GridSearchCV(estimator=model, param_grid=param_grid, cv=5, scoring='accuracy')\n",
    "grid_search.fit(X,y)\n",
    "\n",
    "\n",
    "print(f'Geriausi parametrai: {grid_search.best_params_}')\n",
    "print(f'Geriausias tikslumas: {grid_search.best_score_}')\n",
    "\n",
    "\n"
   ]
  },
  {
   "cell_type": "code",
   "execution_count": 18,
   "metadata": {},
   "outputs": [
    {
     "name": "stdout",
     "output_type": "stream",
     "text": [
      "100%|██████████| 100/100 [01:11<00:00,  1.39trial/s, best loss: -0.9666356155876417]\n",
      "Geriausi parametrai: {'max_depth': 1, 'min_samples_split': 3.0, 'n_estimators': 110.0}\n"
     ]
    }
   ],
   "source": [
    "skaler = StandardScaler()\n",
    "X_train = skaler.fit_transform(X_train)\n",
    "X_test = skaler.transform(X_test)\n",
    "\n",
    "def objective(params):\n",
    "    model = RandomForestClassifier(**params)\n",
    "    return -cross_val_score(model, X, y, cv=5, scoring='accuracy').mean()\n",
    "\n",
    "models_params = {\n",
    "    'n_estimators': scope.int(hp.quniform('n_estimators', 10, 200, 1)), # medziu kiekis\n",
    "    'max_depth': hp.choice('max_depth', [None, 10, 20]), # sprendimu kiekis medyje\n",
    "    'min_samples_split': scope.int(hp.quniform('min_samples_split', 2, 20, 1)) # minimalus pavyzdžių kiekis\n",
    "}\n",
    "\n",
    "trials = Trials()\n",
    "best = fmin(fn=objective, space=models_params, algo=tpe.suggest, max_evals=100, trials=trials )\n",
    "print(f\"Geriausi parametrai: {best}\")"
   ]
  },
  {
   "cell_type": "code",
   "execution_count": 21,
   "metadata": {},
   "outputs": [
    {
     "name": "stdout",
     "output_type": "stream",
     "text": [
      "0.958041958041958\n"
     ]
    }
   ],
   "source": [
    "X_train, X_test, y_train, y_test = train_test_split(X, y)\n",
    "\n",
    "model = RandomForestClassifier(max_depth=1, min_samples_split=3, n_estimators=110)\n",
    "model.fit(X_train, y_train)\n",
    "\n",
    "y_pred = model.predict(X_test)\n",
    "print(accuracy_score(y_test, y_pred))"
   ]
  }
 ],
 "metadata": {
  "kernelspec": {
   "display_name": "mokymai",
   "language": "python",
   "name": "python3"
  },
  "language_info": {
   "codemirror_mode": {
    "name": "ipython",
    "version": 3
   },
   "file_extension": ".py",
   "mimetype": "text/x-python",
   "name": "python",
   "nbconvert_exporter": "python",
   "pygments_lexer": "ipython3",
   "version": "3.12.2"
  }
 },
 "nbformat": 4,
 "nbformat_minor": 2
}
