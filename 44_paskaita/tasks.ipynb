{
 "cells": [
  {
   "cell_type": "code",
   "execution_count": null,
   "metadata": {},
   "outputs": [],
   "source": [
    "# ## Uždavinys 1\n",
    "\n",
    "# Naudodami krūties vėžio duomenų rinkinį, prognozuokite, ar navikas yra gerybinis ar piktybinis, \n",
    "# naudodami logistinės regresijos modelį su polinominėmis ypatybėmis.\n",
    "\n",
    "# Duomenų rinkinys: (https://www.kaggle.com/datasets/uciml/breast-cancer-wisconsin-data)\n"
   ]
  },
  {
   "cell_type": "code",
   "execution_count": 105,
   "metadata": {},
   "outputs": [],
   "source": [
    "import numpy as np\n",
    "import matplotlib.pyplot as plt\n",
    "from sklearn.linear_model import LogisticRegression\n",
    "from sklearn.datasets import load_breast_cancer\n",
    "from sklearn.model_selection import train_test_split\n",
    "import matplotlib.pyplot as plt\n",
    "from sklearn.linear_model import LogisticRegression\n",
    "from sklearn.metrics import accuracy_score, confusion_matrix, classification_report\n",
    "import pandas as pd\n",
    "from sklearn.preprocessing import PolynomialFeatures\n",
    "import warnings\n",
    "from sklearn.preprocessing import StandardScaler"
   ]
  },
  {
   "cell_type": "code",
   "execution_count": 177,
   "metadata": {},
   "outputs": [
    {
     "name": "stdout",
     "output_type": "stream",
     "text": [
      "Accuracy: 0.993006993006993\n",
      "Confusion Matrix:\n",
      "[[92  1]\n",
      " [ 0 50]]\n",
      "Classification Report:\n",
      "              precision    recall  f1-score   support\n",
      "\n",
      "           0       1.00      0.99      0.99        93\n",
      "           1       0.98      1.00      0.99        50\n",
      "\n",
      "    accuracy                           0.99       143\n",
      "   macro avg       0.99      0.99      0.99       143\n",
      "weighted avg       0.99      0.99      0.99       143\n",
      "\n"
     ]
    }
   ],
   "source": [
    "data = pd.read_csv('data.csv', sep=',')\n",
    "\n",
    "data = data.drop(['Unnamed: 32', 'id'], axis=1)\n",
    "\n",
    "\n",
    "data['diagnosis'] = data['diagnosis'].apply(lambda x: 1 if x == 'M' else 0)\n",
    "\n",
    "X = data.drop('diagnosis', axis=1)\n",
    "y = data['diagnosis']\n",
    "X_train, X_test, y_train, y_test = train_test_split(X, y)\n",
    "\n",
    "skaler = StandardScaler()\n",
    "X_train = skaler.fit_transform(X_train)\n",
    "X_test = skaler.transform(X_test)\n",
    "\n",
    "poly = PolynomialFeatures(degree=2)\n",
    "X_train_poly = poly.fit_transform(X_train)\n",
    "X_test_poly = poly.transform(X_test)\n",
    "\n",
    "\n",
    "log_reg = LogisticRegression(max_iter=10000)\n",
    "log_reg.fit(X_train_poly, y_train)\n",
    "\n",
    "y_pred = log_reg.predict(X_test_poly)\n",
    "\n",
    "accuracy = accuracy_score(y_test, y_pred)\n",
    "print(f'Accuracy: {accuracy}')\n",
    "\n",
    "conf_matrix = confusion_matrix(y_test, y_pred)\n",
    "print(f'Confusion Matrix:\\n{conf_matrix}')\n",
    "\n",
    "class_report = classification_report(y_test, y_pred)\n",
    "print(f'Classification Report:\\n{class_report}')\n",
    "\n",
    "# def predict_cancer(x):\n",
    "#     warnings.filterwarnings(\"ignore\", message=\"X does not have valid feature names\")\n",
    "#     prediction = model.predict([x])\n",
    "#     result = 'Piktybinis' if prediction[0] == 1 else 'Gerybinis'\n",
    "#     print(result); return result\n",
    "\n",
    "# # predict_cancer(X_test.iloc[1].values)"
   ]
  },
  {
   "cell_type": "code",
   "execution_count": 15,
   "metadata": {},
   "outputs": [],
   "source": [
    "# ## Uždavinys 2\n",
    "\n",
    "# Naudojant širdies ligų duomenų rinkinį, prognozuokite, ar pacientas turi širdies ligą, \\\n",
    "# naudodami logistinės regresijos modelį su polinominėmis ypatybėmis.\n",
    "\n",
    "# Duomenų rinkinys https://archive.ics.uci.edu/dataset/45/heart+disease"
   ]
  },
  {
   "cell_type": "code",
   "execution_count": 259,
   "metadata": {},
   "outputs": [
    {
     "name": "stdout",
     "output_type": "stream",
     "text": [
      "Accuracy: 0.6271186440677966\n",
      "Confusion Matrix:\n",
      "[[35  3  0  0  0]\n",
      " [ 5  0  1  1  2]\n",
      " [ 0  1  2  1  2]\n",
      " [ 4  0  1  0  0]\n",
      " [ 0  1  0  0  0]]\n",
      "Classification Report:\n",
      "              precision    recall  f1-score   support\n",
      "\n",
      "           0       0.80      0.92      0.85        38\n",
      "           1       0.00      0.00      0.00         9\n",
      "           2       0.50      0.33      0.40         6\n",
      "           3       0.00      0.00      0.00         5\n",
      "           4       0.00      0.00      0.00         1\n",
      "\n",
      "    accuracy                           0.63        59\n",
      "   macro avg       0.26      0.25      0.25        59\n",
      "weighted avg       0.56      0.63      0.59        59\n",
      "\n"
     ]
    }
   ],
   "source": [
    "column_names = ['age','sex','cp','trestbps','chol','fbs','restecg','thalach','exang','oldpeak','slope','ca','thal','num']\n",
    "df = pd.read_csv('reprocessed.hungarian.csv', sep=' ', names= column_names)\n",
    "#sex (1 = male; 0 = female)\n",
    "# 58 num: diagnosis of heart disease (angiographic disease status)\n",
    "# -- Value 0: < 50% diameter narrowing\n",
    "# -- Value 1: > 50% diameter narrowing\n",
    "# (in any major vessel: attributes 59 through 68 are vessels)\n",
    "\n",
    "\n",
    "X = df.drop('num', axis=1)\n",
    "y = df['num']\n",
    "\n",
    "df.reset_index()\n",
    "\n",
    "X_train, X_test, y_train, y_test = train_test_split(X, y, test_size=0.2, random_state=42 )\n",
    "\n",
    "skaler = StandardScaler()\n",
    "X_train = skaler.fit_transform(X_train)\n",
    "X_test = skaler.transform(X_test)\n",
    "\n",
    "poly = PolynomialFeatures(degree=2)\n",
    "X_train_poly = poly.fit_transform(X_train)\n",
    "X_test_poly = poly.transform(X_test)\n",
    "\n",
    "\n",
    "log_reg = LogisticRegression(max_iter=10000)\n",
    "log_reg.fit(X_train_poly, y_train)\n",
    "\n",
    "\n",
    "y_pred = log_reg.predict(X_test_poly)\n",
    "# y_prob = model.predict_proba(X_test)\n",
    "accuracy = accuracy_score(y_pred, y_test)\n",
    "\n",
    "conf_matrix = confusion_matrix(y_test, y_pred)\n",
    "\n",
    "accuracy = accuracy_score(y_test, y_pred)\n",
    "print(f'Accuracy: {accuracy}')\n",
    "\n",
    "conf_matrix = confusion_matrix(y_test, y_pred)\n",
    "print(f'Confusion Matrix:\\n{conf_matrix}')\n",
    "\n",
    "class_report = classification_report(y_test, y_pred)\n",
    "print(f'Classification Report:\\n{class_report}')"
   ]
  },
  {
   "cell_type": "code",
   "execution_count": null,
   "metadata": {},
   "outputs": [],
   "source": [
    "# ## Uždavinys 3\n",
    "\n",
    "# Naudojant Pima Indians Diabetes duomenų rinkinį, prognozuokite, ar pacientas turi diabetą, \n",
    "# naudodami logistinės regresijos modelį su polinominėmis ypatybėmis.\n",
    "\n",
    "# Duomenų rinkinys: Pima Indians Diabetes Database https://www.kaggle.com/datasets/uciml/pima-indians-diabetes-database/data"
   ]
  },
  {
   "cell_type": "code",
   "execution_count": null,
   "metadata": {},
   "outputs": [],
   "source": [
    "df = pd.read_csv('diabetes.csv')\n",
    "X = df.iloc[:,:-1]\n",
    "Y = df.iloc[:,-1]\n",
    "X_train, X_test, Y_train, Y_test = train_test_split(X, Y)\n",
    "model1 = LogisticRegression()\n",
    "model1.fit(X_train, Y_train)\n",
    "Y_pred = model1.predict(X_test)\n",
    "print(accuracy_score(Y_test, Y_pred))\n",
    "print(confusion_matrix(Y_test, Y_pred))\n",
    "model2 = RandomForestClassifier()\n",
    "model2.fit(X_train, Y_train)\n",
    "Y_pred = model2.predict(X_test)\n",
    "print(accuracy_score(Y_test, Y_pred))\n",
    "print(confusion_matrix(Y_test, Y_pred))"
   ]
  }
 ],
 "metadata": {
  "kernelspec": {
   "display_name": "mokymai",
   "language": "python",
   "name": "python3"
  },
  "language_info": {
   "codemirror_mode": {
    "name": "ipython",
    "version": 3
   },
   "file_extension": ".py",
   "mimetype": "text/x-python",
   "name": "python",
   "nbconvert_exporter": "python",
   "pygments_lexer": "ipython3",
   "version": "3.12.2"
  }
 },
 "nbformat": 4,
 "nbformat_minor": 2
}
