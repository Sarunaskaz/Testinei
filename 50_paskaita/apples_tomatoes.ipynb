{
 "cells": [
  {
   "cell_type": "code",
   "execution_count": 14,
   "metadata": {},
   "outputs": [
    {
     "name": "stdout",
     "output_type": "stream",
     "text": [
      "25\n"
     ]
    },
    {
     "ename": "PermissionError",
     "evalue": "[Errno 13] Permission denied: 'apple_tomatoes\\\\apples\\\\validation'",
     "output_type": "error",
     "traceback": [
      "\u001b[1;31m---------------------------------------------------------------------------\u001b[0m",
      "\u001b[1;31mPermissionError\u001b[0m                           Traceback (most recent call last)",
      "Cell \u001b[1;32mIn[14], line 46\u001b[0m\n\u001b[0;32m     42\u001b[0m         \u001b[38;5;28;01melse\u001b[39;00m:\n\u001b[0;32m     43\u001b[0m             shutil\u001b[38;5;241m.\u001b[39mcopy(os\u001b[38;5;241m.\u001b[39mpath\u001b[38;5;241m.\u001b[39mjoin(directory, image), os\u001b[38;5;241m.\u001b[39mpath\u001b[38;5;241m.\u001b[39mjoin(test_dir, image))\n\u001b[1;32m---> 46\u001b[0m \u001b[43msplit_data\u001b[49m\u001b[43m(\u001b[49m\u001b[43mapples_dir\u001b[49m\u001b[43m,\u001b[49m\u001b[43m \u001b[49m\u001b[43msplits\u001b[49m\u001b[43m)\u001b[49m\n\u001b[0;32m     47\u001b[0m split_data(tomatoes_dir, splits)\n",
      "Cell \u001b[1;32mIn[14], line 39\u001b[0m, in \u001b[0;36msplit_data\u001b[1;34m(directory, splits)\u001b[0m\n\u001b[0;32m     37\u001b[0m \u001b[38;5;28;01mfor\u001b[39;00m i, image \u001b[38;5;129;01min\u001b[39;00m \u001b[38;5;28menumerate\u001b[39m(images):\n\u001b[0;32m     38\u001b[0m     \u001b[38;5;28;01mif\u001b[39;00m i \u001b[38;5;241m<\u001b[39m train_size:\n\u001b[1;32m---> 39\u001b[0m         \u001b[43mshutil\u001b[49m\u001b[38;5;241;43m.\u001b[39;49m\u001b[43mcopy\u001b[49m\u001b[43m(\u001b[49m\u001b[43mos\u001b[49m\u001b[38;5;241;43m.\u001b[39;49m\u001b[43mpath\u001b[49m\u001b[38;5;241;43m.\u001b[39;49m\u001b[43mjoin\u001b[49m\u001b[43m(\u001b[49m\u001b[43mdirectory\u001b[49m\u001b[43m,\u001b[49m\u001b[43m \u001b[49m\u001b[43mimage\u001b[49m\u001b[43m)\u001b[49m\u001b[43m,\u001b[49m\u001b[43m \u001b[49m\u001b[43mos\u001b[49m\u001b[38;5;241;43m.\u001b[39;49m\u001b[43mpath\u001b[49m\u001b[38;5;241;43m.\u001b[39;49m\u001b[43mjoin\u001b[49m\u001b[43m(\u001b[49m\u001b[43mtrain_dir\u001b[49m\u001b[43m,\u001b[49m\u001b[43m \u001b[49m\u001b[43mimage\u001b[49m\u001b[43m)\u001b[49m\u001b[43m)\u001b[49m\n\u001b[0;32m     40\u001b[0m     \u001b[38;5;28;01melif\u001b[39;00m i \u001b[38;5;241m<\u001b[39m train_size \u001b[38;5;241m+\u001b[39m validation_size:\n\u001b[0;32m     41\u001b[0m         shutil\u001b[38;5;241m.\u001b[39mcopy(os\u001b[38;5;241m.\u001b[39mpath\u001b[38;5;241m.\u001b[39mjoin(directory, image), os\u001b[38;5;241m.\u001b[39mpath\u001b[38;5;241m.\u001b[39mjoin(validation_dir, image))\n",
      "File \u001b[1;32m~\\AppData\\Local\\Programs\\Python\\Python312\\Lib\\shutil.py:435\u001b[0m, in \u001b[0;36mcopy\u001b[1;34m(src, dst, follow_symlinks)\u001b[0m\n\u001b[0;32m    433\u001b[0m \u001b[38;5;28;01mif\u001b[39;00m os\u001b[38;5;241m.\u001b[39mpath\u001b[38;5;241m.\u001b[39misdir(dst):\n\u001b[0;32m    434\u001b[0m     dst \u001b[38;5;241m=\u001b[39m os\u001b[38;5;241m.\u001b[39mpath\u001b[38;5;241m.\u001b[39mjoin(dst, os\u001b[38;5;241m.\u001b[39mpath\u001b[38;5;241m.\u001b[39mbasename(src))\n\u001b[1;32m--> 435\u001b[0m \u001b[43mcopyfile\u001b[49m\u001b[43m(\u001b[49m\u001b[43msrc\u001b[49m\u001b[43m,\u001b[49m\u001b[43m \u001b[49m\u001b[43mdst\u001b[49m\u001b[43m,\u001b[49m\u001b[43m \u001b[49m\u001b[43mfollow_symlinks\u001b[49m\u001b[38;5;241;43m=\u001b[39;49m\u001b[43mfollow_symlinks\u001b[49m\u001b[43m)\u001b[49m\n\u001b[0;32m    436\u001b[0m copymode(src, dst, follow_symlinks\u001b[38;5;241m=\u001b[39mfollow_symlinks)\n\u001b[0;32m    437\u001b[0m \u001b[38;5;28;01mreturn\u001b[39;00m dst\n",
      "File \u001b[1;32m~\\AppData\\Local\\Programs\\Python\\Python312\\Lib\\shutil.py:260\u001b[0m, in \u001b[0;36mcopyfile\u001b[1;34m(src, dst, follow_symlinks)\u001b[0m\n\u001b[0;32m    258\u001b[0m     os\u001b[38;5;241m.\u001b[39msymlink(os\u001b[38;5;241m.\u001b[39mreadlink(src), dst)\n\u001b[0;32m    259\u001b[0m \u001b[38;5;28;01melse\u001b[39;00m:\n\u001b[1;32m--> 260\u001b[0m     \u001b[38;5;28;01mwith\u001b[39;00m \u001b[38;5;28;43mopen\u001b[39;49m\u001b[43m(\u001b[49m\u001b[43msrc\u001b[49m\u001b[43m,\u001b[49m\u001b[43m \u001b[49m\u001b[38;5;124;43m'\u001b[39;49m\u001b[38;5;124;43mrb\u001b[39;49m\u001b[38;5;124;43m'\u001b[39;49m\u001b[43m)\u001b[49m \u001b[38;5;28;01mas\u001b[39;00m fsrc:\n\u001b[0;32m    261\u001b[0m         \u001b[38;5;28;01mtry\u001b[39;00m:\n\u001b[0;32m    262\u001b[0m             \u001b[38;5;28;01mwith\u001b[39;00m \u001b[38;5;28mopen\u001b[39m(dst, \u001b[38;5;124m'\u001b[39m\u001b[38;5;124mwb\u001b[39m\u001b[38;5;124m'\u001b[39m) \u001b[38;5;28;01mas\u001b[39;00m fdst:\n\u001b[0;32m    263\u001b[0m                 \u001b[38;5;66;03m# macOS\u001b[39;00m\n",
      "\u001b[1;31mPermissionError\u001b[0m: [Errno 13] Permission denied: 'apple_tomatoes\\\\apples\\\\validation'"
     ]
    }
   ],
   "source": [
    "import os\n",
    "import random\n",
    "import shutil\n",
    "\n",
    "data_dir = 'apple_tomatoes'\n",
    "apples_dir = os.path.join(data_dir, 'apples')\n",
    "tomatoes_dir = os.path.join(data_dir, 'tomatoes')\n",
    "\n",
    "#Aprasom kokia dalis tenka mokymui ir testavimui\n",
    "splits = (0.7, 0.15, 0.15)\n",
    "\n",
    "def split_data(directory:str, splits:tuple):\n",
    "    \"\"\"\n",
    "    Funkcija yra skirta suskaidyti pateiktam kataloge esancias nuotraukas i tris naujus katalogus, pagal \n",
    "    pateiktus isskaidymo dydzius\n",
    "\n",
    "    Parametrai:\n",
    "    directory - nuoroda iki failo, kuri norite skaidyti\n",
    "    splits - tuple, su nurodytais kiekiais mokymui, testavimui ir validacijai\n",
    "    \"\"\"\n",
    "    images = os.listdir(directory)\n",
    "    random.shuffle(images)\n",
    "    train_size = int(len(images) * splits[0])\n",
    "    validation_size = int(len(images) * splits[1])\n",
    "    print(validation_size)\n",
    "\n",
    "    train_dir = os.path.join(directory, 'train')\n",
    "    validation_dir = os.path.join(directory, 'validation')\n",
    "    test_dir = os.path.join(directory, 'test')\n",
    "\n",
    "    \n",
    "    \n",
    "    os.makedirs(train_dir, exist_ok=True)\n",
    "    os.makedirs(validation_dir, exist_ok=True)\n",
    "    os.makedirs(test_dir, exist_ok=True)\n",
    "\n",
    "    for i, image in enumerate(images):\n",
    "        if i < train_size:\n",
    "            shutil.copy(os.path.join(directory, image), os.path.join(train_dir, image))\n",
    "        elif i < train_size + validation_size:\n",
    "            shutil.copy(os.path.join(directory, image), os.path.join(validation_dir, image))\n",
    "        else:\n",
    "            shutil.copy(os.path.join(directory, image), os.path.join(test_dir, image))\n",
    "\n",
    "\n",
    "split_data(apples_dir, splits)\n",
    "split_data(tomatoes_dir, splits)\n"
   ]
  },
  {
   "cell_type": "code",
   "execution_count": null,
   "metadata": {},
   "outputs": [],
   "source": [
    "from PIL import Image\n",
    "\n",
    "data_dir = 'apple_tomatoes'\n",
    "apples_dir = os.path.join(data_dir, 'apples')\n",
    "tomatoes_dir = os.path.join(data_dir, 'tomatoes')\n",
    "\n",
    "def is_valid_image(file_path):\n",
    "    try:\n",
    "        with Image.open(file_path) as img:\n",
    "            img.verify()\n",
    "        return True\n",
    "    except (IOError, SyntaxError):\n",
    "        return False\n",
    "    \n",
    "def get_valid_image_files(directory):\n",
    "    \"\"\"Skirta atrinkti į sąrašą tik validžių failų pavadinimus\"\"\"\n",
    "    valid_files = []\n",
    "    for root, _, files in os.walk(directory): # naudojame _ katalogams train, validation, test, nes neketiname jų naudoti\n",
    "        if root != directory:\n",
    "            for file in files:\n",
    "                file_path = os.path.join(root, file)\n",
    "                if is_valid_image(file_path):\n",
    "                    valid_files.append(file_path)\n",
    "    return valid_files\n",
    "\n",
    "valid_cat_photos = get_valid_image_files(apples_dir)\n",
    "valid_dog_photos = get_valid_image_files(tomatoes_dir)"
   ]
  },
  {
   "cell_type": "code",
   "execution_count": null,
   "metadata": {},
   "outputs": [
    {
     "name": "stdout",
     "output_type": "stream",
     "text": [
      "Found 164 validated image filenames.\n",
      "Found 173 validated image filenames.\n"
     ]
    }
   ],
   "source": [
    "from tensorflow.keras.preprocessing.image import ImageDataGenerator\n",
    "import pandas as pd\n",
    "\n",
    "dataGen = ImageDataGenerator(rescale=1./255)\n",
    "\n",
    "apples_df = pd.DataFrame({'filename':valid_cat_photos})\n",
    "tomatoes_df = pd.DataFrame({'filename':valid_dog_photos})\n",
    "\n",
    "apples_generator = dataGen.flow_from_dataframe(\n",
    "    dataframe = apples_df,\n",
    "    x_col = 'filename',\n",
    "    target_size = (150, 150),\n",
    "    batch_size = 20,\n",
    "    class_mode = None)\n",
    "\n",
    "tomatoes_generator = dataGen.flow_from_dataframe(\n",
    "    dataframe = tomatoes_df,\n",
    "    x_col = 'filename',\n",
    "    target_size = (150, 150),\n",
    "    batch_size = 20,\n",
    "    class_mode = None)"
   ]
  },
  {
   "cell_type": "code",
   "execution_count": 18,
   "metadata": {},
   "outputs": [
    {
     "data": {
      "text/plain": [
       "<keras.src.legacy.preprocessing.image.DataFrameIterator at 0x1a527dab140>"
      ]
     },
     "execution_count": 18,
     "metadata": {},
     "output_type": "execute_result"
    }
   ],
   "source": [
    "apples_generator"
   ]
  },
  {
   "cell_type": "code",
   "execution_count": null,
   "metadata": {},
   "outputs": [],
   "source": [
    "from tensorflow.keras.utils import Sequence\n",
    "import numpy as np\n",
    "\n",
    "class CombinedGenerator(Sequence):\n",
    "    def __init__(self, *generators):\n",
    "        self.generators = generators\n",
    "        self._num_batches = sum(len(gen) for gen in generators)\n",
    "        self.current_generator = 0\n",
    "\n",
    "    def __len__(self):\n",
    "        return self._num_batches\n",
    "    \n",
    "    def __getitem__(self, idx):\n",
    "        for gen in self.generators:\n",
    "            if idx < len(gen):\n",
    "                batch = gen[idx]\n",
    "                labels = np.array([0] * batch.shape[0]) if gen == apples_generator else np.array([1]* batch.shape[0])\n",
    "                return batch, labels\n",
    "            idx -= len(gen)\n",
    "\n",
    "combined_generator = CombinedGenerator(apples_generator, tomatoes_generator)"
   ]
  },
  {
   "cell_type": "code",
   "execution_count": 65,
   "metadata": {},
   "outputs": [
    {
     "name": "stderr",
     "output_type": "stream",
     "text": [
      "c:\\Users\\sarun\\OneDrive\\Documents\\Code\\Testinei\\mokymai\\Lib\\site-packages\\keras\\src\\layers\\convolutional\\base_conv.py:107: UserWarning: Do not pass an `input_shape`/`input_dim` argument to a layer. When using Sequential models, prefer using an `Input(shape)` object as the first layer in the model instead.\n",
      "  super().__init__(activity_regularizer=activity_regularizer, **kwargs)\n"
     ]
    }
   ],
   "source": [
    "from tensorflow.keras import datasets, layers, models\n",
    "\n",
    "model = models.Sequential([\n",
    "    layers.Conv2D(32, (3,3), activation = 'relu', input_shape = (150,150,3)),\n",
    "    layers.MaxPooling2D(2,2),\n",
    "    layers.Conv2D(64, (3,3), activation = 'relu' ),\n",
    "    layers.MaxPooling2D(2,2),\n",
    "    layers.Conv2D(128, (3,3), activation = 'relu'),\n",
    "    layers.MaxPooling2D(2,2),\n",
    "    layers.Flatten(),\n",
    "    layers.Dense(512, activation='relu'),\n",
    "    layers.Dense(1, activation='sigmoid')\n",
    "])"
   ]
  },
  {
   "cell_type": "code",
   "execution_count": 66,
   "metadata": {},
   "outputs": [],
   "source": [
    "model.compile(\n",
    "    optimizer = 'adam',\n",
    "    loss = 'binary_crossentropy',\n",
    "    metrics = ['accuracy']\n",
    ")"
   ]
  },
  {
   "cell_type": "code",
   "execution_count": 67,
   "metadata": {},
   "outputs": [
    {
     "name": "stdout",
     "output_type": "stream",
     "text": [
      "Epoch 1/7\n",
      "\u001b[1m18/18\u001b[0m \u001b[32m━━━━━━━━━━━━━━━━━━━━\u001b[0m\u001b[37m\u001b[0m \u001b[1m5s\u001b[0m 157ms/step - accuracy: 0.5428 - loss: 3.2227\n",
      "Epoch 2/7\n",
      "\u001b[1m18/18\u001b[0m \u001b[32m━━━━━━━━━━━━━━━━━━━━\u001b[0m\u001b[37m\u001b[0m \u001b[1m0s\u001b[0m 278us/step - accuracy: 0.0000e+00 - loss: 0.0000e+00\n",
      "Epoch 3/7\n"
     ]
    },
    {
     "name": "stderr",
     "output_type": "stream",
     "text": [
      "C:\\Users\\sarun\\AppData\\Local\\Programs\\Python\\Python312\\Lib\\contextlib.py:158: UserWarning: Your input ran out of data; interrupting training. Make sure that your dataset or generator can generate at least `steps_per_epoch * epochs` batches. You may need to use the `.repeat()` function when building your dataset.\n",
      "  self.gen.throw(value)\n"
     ]
    },
    {
     "name": "stdout",
     "output_type": "stream",
     "text": [
      "\u001b[1m18/18\u001b[0m \u001b[32m━━━━━━━━━━━━━━━━━━━━\u001b[0m\u001b[37m\u001b[0m \u001b[1m2s\u001b[0m 119ms/step - accuracy: 0.3374 - loss: 0.6994\n",
      "Epoch 4/7\n",
      "\u001b[1m18/18\u001b[0m \u001b[32m━━━━━━━━━━━━━━━━━━━━\u001b[0m\u001b[37m\u001b[0m \u001b[1m0s\u001b[0m 168us/step - accuracy: 0.0000e+00 - loss: 0.0000e+00\n",
      "Epoch 5/7\n",
      "\u001b[1m18/18\u001b[0m \u001b[32m━━━━━━━━━━━━━━━━━━━━\u001b[0m\u001b[37m\u001b[0m \u001b[1m2s\u001b[0m 117ms/step - accuracy: 0.7041 - loss: 0.6961\n",
      "Epoch 6/7\n",
      "\u001b[1m18/18\u001b[0m \u001b[32m━━━━━━━━━━━━━━━━━━━━\u001b[0m\u001b[37m\u001b[0m \u001b[1m0s\u001b[0m 108us/step - accuracy: 0.0000e+00 - loss: 0.0000e+00\n",
      "Epoch 7/7\n",
      "\u001b[1m18/18\u001b[0m \u001b[32m━━━━━━━━━━━━━━━━━━━━\u001b[0m\u001b[37m\u001b[0m \u001b[1m2s\u001b[0m 117ms/step - accuracy: 0.5516 - loss: 0.6923\n"
     ]
    }
   ],
   "source": [
    "history = model.fit(\n",
    "    combined_generator,\n",
    "    steps_per_epoch = len(combined_generator),\n",
    "    epochs = 7\n",
    ")"
   ]
  },
  {
   "cell_type": "code",
   "execution_count": 70,
   "metadata": {},
   "outputs": [
    {
     "name": "stdout",
     "output_type": "stream",
     "text": [
      "\u001b[1m1/1\u001b[0m \u001b[32m━━━━━━━━━━━━━━━━━━━━\u001b[0m\u001b[37m\u001b[0m \u001b[1m0s\u001b[0m 17ms/step\n",
      "pomidoras\n",
      "\u001b[1m1/1\u001b[0m \u001b[32m━━━━━━━━━━━━━━━━━━━━\u001b[0m\u001b[37m\u001b[0m \u001b[1m0s\u001b[0m 21ms/step\n",
      "pomidoras\n",
      "\u001b[1m1/1\u001b[0m \u001b[32m━━━━━━━━━━━━━━━━━━━━\u001b[0m\u001b[37m\u001b[0m \u001b[1m0s\u001b[0m 18ms/step\n",
      "pomidoras\n"
     ]
    }
   ],
   "source": [
    "def preprocess_image(image_path):\n",
    "    img = Image.open(image_path)\n",
    "    if image_path.endswith(\".png\"):\n",
    "        im = Image.open(image_path)\n",
    "        img = im.convert('RGB')\n",
    "        # rgb_im.save('colors.jpg')\n",
    "\n",
    "    img = img.resize((150,150))\n",
    "    img_array = np.array(img)\n",
    "    img_array = img_array.astype('float32') / 255.0\n",
    "    img_array = np.expand_dims(img_array, axis=0)\n",
    "    # print(img_array)\n",
    "    return img_array\n",
    "\n",
    "def predict_image(image_path):\n",
    "    img_array = preprocess_image(image_path)\n",
    "    prediction = model.predict(img_array)\n",
    "    return \"pomidoras\" if prediction[0][0] > 0.5 else 'obuolys'\n",
    "\n",
    "print(predict_image('obuolys.png'))\n",
    "print(predict_image('pomidoras.jpg'))\n",
    "print(predict_image('obuolys2.jpg'))"
   ]
  }
 ],
 "metadata": {
  "kernelspec": {
   "display_name": "mokymai",
   "language": "python",
   "name": "python3"
  },
  "language_info": {
   "codemirror_mode": {
    "name": "ipython",
    "version": 3
   },
   "file_extension": ".py",
   "mimetype": "text/x-python",
   "name": "python",
   "nbconvert_exporter": "python",
   "pygments_lexer": "ipython3",
   "version": "3.12.2"
  }
 },
 "nbformat": 4,
 "nbformat_minor": 2
}
