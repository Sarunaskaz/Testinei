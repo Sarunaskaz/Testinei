{
 "cells": [
  {
   "cell_type": "code",
   "execution_count": null,
   "metadata": {},
   "outputs": [],
   "source": [
    "import numpy as np"
   ]
  },
  {
   "cell_type": "code",
   "execution_count": null,
   "metadata": {},
   "outputs": [],
   "source": [
    "def sigmoid(x):\n",
    "    return 1 / (1+ np.exp(-x))\n",
    "\n",
    "class Neuron:\n",
    "    def __init__(self, weights, bias):\n",
    "        self.weights = weights\n",
    "        self.bias = bias\n",
    "\n",
    "    def feed_forward(self, inputs):\n",
    "        total = np.dot(self.weights, inputs) + self.bias\n",
    "        print(total)\n",
    "        return sigmoid(total)\n",
    "    \n",
    "weights = np.array([0.5, -0.5])\n",
    "bias = 0.0\n",
    "\n",
    "neuron = Neuron(weights, bias)\n",
    "\n",
    "inputs = np.array([1,2])\n",
    "\n",
    "output = neuron.feed_forward(inputs)\n",
    "print('Neurono ats:', output)"
   ]
  },
  {
   "cell_type": "code",
   "execution_count": 2,
   "metadata": {},
   "outputs": [
    {
     "name": "stdout",
     "output_type": "stream",
     "text": [
      "[[0.02023083]\n",
      " [0.98788461]\n",
      " [0.98647294]\n",
      " [0.00499202]]\n"
     ]
    }
   ],
   "source": [
    "import numpy as np\n",
    "\n",
    "def sigmoid(x):\n",
    "    return 1 / (1+ np.exp(-x))\n",
    "\n",
    "def sigmoid_derivated(x):\n",
    "    return x * (1-x)\n",
    "\n",
    "class NeuralNetwork:\n",
    "    def __init__(self, x, y):\n",
    "        self.input = x\n",
    "        self.weights1 = np.random.rand(self.input.shape[1], 4)\n",
    "        self.weights2 = np.random.rand(4,1)\n",
    "        self.y = y\n",
    "        self.output = np.zeros(y.shape)\n",
    "    \n",
    "    def feed_forward(self):\n",
    "        self.layer1 = sigmoid(np.dot(self.input, self.weights1))\n",
    "        self.output = sigmoid(np.dot(self.layer1, self.weights2))\n",
    "\n",
    "    def backdrop(self):\n",
    "        # gradientinis nuokripis\n",
    "        d_weights2 = np.dot(self.layer1.T, (2*(self.y - self.output) *sigmoid_derivated(self.output)))\n",
    "        d_weights1 = np.dot(self.input.T, (np.dot(2 * (self.y - self.output) * sigmoid_derivated(self.output), self.weights2.T) * sigmoid_derivated(self.layer1)))\n",
    "        # atnaujinam svorius\n",
    "        self.weights1 += d_weights1\n",
    "        self.weights2 += d_weights2\n",
    "\n",
    "    def train(self, iterations):\n",
    "        for _ in range(iterations):\n",
    "            self.feed_forward()\n",
    "            self.backdrop()\n",
    "\n",
    "inputs = np.array([[0,0], [0,1], [1,0], [1,1]])\n",
    "targets = np.array([[0], [1], [1], [0]])\n",
    "\n",
    "nn = NeuralNetwork(inputs, targets)\n",
    "nn.train(10000)\n",
    "\n",
    "print(nn.output)"
   ]
  },
  {
   "cell_type": "code",
   "execution_count": 59,
   "metadata": {},
   "outputs": [
    {
     "name": "stdout",
     "output_type": "stream",
     "text": [
      "1.0\n"
     ]
    }
   ],
   "source": [
    "from sklearn.datasets import load_iris\n",
    "from sklearn.model_selection import train_test_split\n",
    "from sklearn.preprocessing import StandardScaler\n",
    "\n",
    "def sigmoid(x):\n",
    "    return 1 / (1 + np.exp(-x))\n",
    "\n",
    "def sigmoid_derivated(x):\n",
    "    return x * (1-x)\n",
    "\n",
    "class NeuralNetwork:\n",
    "    def __init__(self, input_size, hidden_size, output_size):\n",
    "        self.weights_input_hidden = np.random.rand(input_size,hidden_size)\n",
    "        self.weights_output_hidden = np.random.rand(hidden_size, output_size)\n",
    "\n",
    "    def feed_forward(self, X):\n",
    "        self.hidden_layer = sigmoid(np.dot(X, self.weights_input_hidden))\n",
    "        self.output = sigmoid(np.dot(self.hidden_layer, self.weights_output_hidden))\n",
    "\n",
    "    def backpropagation(self, X, y, learning_rate):\n",
    "        output_error = y -self.output\n",
    "        d_output = output_error * sigmoid_derivated(self.output)\n",
    "        hidden_error = d_output.dot(self.weights_output_hidden.T) # T transformation property\n",
    "        d_hidden = hidden_error * sigmoid_derivated(self.hidden_layer)\n",
    "        self.weights_output_hidden += self.hidden_layer.T.dot(d_output) * learning_rate\n",
    "        self.weights_input_hidden += X.T.dot(d_hidden) * learning_rate\n",
    "\n",
    "    def train(self, X, y, epochs, learning_rate):\n",
    "        for _ in range(epochs):\n",
    "            self.feed_forward(X)\n",
    "            self.backpropagation(X,y,learning_rate)\n",
    "\n",
    "    def predict(self, X):\n",
    "        self.feed_forward(X)\n",
    "        return np.round(self.output)\n",
    "\n",
    "iris = load_iris()\n",
    "X = iris.data\n",
    "y = iris.target\n",
    "\n",
    "X_train, X_test, y_train, y_test = train_test_split(X,y, test_size=0.2, random_state=42)\n",
    "\n",
    "scaler = StandardScaler()\n",
    "X_train_scaled = scaler.fit_transform(X_train)\n",
    "X_test_scaled = scaler.transform(X_test)\n",
    "\n",
    "input_size = X_train_scaled.shape[1]  # [1] tell how many collumns we have\n",
    "output_size = len(np.unique(y_train))\n",
    "hidden_size = 8\n",
    "nn = NeuralNetwork(input_size, hidden_size, output_size)\n",
    "\n",
    "nn.train(X_train_scaled, np.eye(output_size)[y_train], epochs=1000, learning_rate=0.1) # epochs - how many times we train. \n",
    "\n",
    "y_pred = nn.predict(X_test_scaled)\n",
    "\n",
    "# print(y_pred)\n",
    "\n",
    "accuracy = np.mean(y_pred == np.eye(output_size)[y_test])\n",
    "print(accuracy)"
   ]
  },
  {
   "cell_type": "code",
   "execution_count": 67,
   "metadata": {},
   "outputs": [
    {
     "name": "stdout",
     "output_type": "stream",
     "text": [
      "1.0\n"
     ]
    }
   ],
   "source": [
    "from sklearn.datasets import load_wine\n",
    "from sklearn.model_selection import train_test_split\n",
    "from sklearn.preprocessing import StandardScaler\n",
    "\n",
    "wine = load_wine()\n",
    "\n",
    "X = wine.data\n",
    "y = wine.target\n",
    "\n",
    "X_train, X_test, y_train, y_test = train_test_split(X,y, test_size=0.2, random_state=42)\n",
    "\n",
    "scaler = StandardScaler()\n",
    "X_train_scaled = scaler.fit_transform(X_train)\n",
    "X_test_scaled = scaler.transform(X_test)\n",
    "\n",
    "input_size = X_train_scaled.shape[1] \n",
    "output_size = len(np.unique(y_train))\n",
    "hidden_size = 8\n",
    "nn = NeuralNetwork(input_size, hidden_size, output_size)\n",
    "\n",
    "nn.train(X_train_scaled, np.eye(output_size)[y_train], epochs=25, learning_rate=0.1)\n",
    "\n",
    "y_pred = nn.predict(X_test_scaled)\n",
    "\n",
    "# print(y_pred)\n",
    "\n",
    "accuracy = np.mean(y_pred == np.eye(output_size)[y_test])\n",
    "print(accuracy)\n"
   ]
  },
  {
   "cell_type": "code",
   "execution_count": 92,
   "metadata": {},
   "outputs": [
    {
     "name": "stdout",
     "output_type": "stream",
     "text": [
      "0.5882352941176471\n"
     ]
    }
   ],
   "source": [
    "import pandas as pd\n",
    "import numpy as np\n",
    "df = pd.read_csv('divorce.csv', sep=\";\")\n",
    "X = df.drop(['Class'], axis=1)\n",
    "y = df['Class']\n",
    "\n",
    "\n",
    "X_train, X_test, y_train, y_test = train_test_split(X,y, test_size=0.2, random_state=42)\n",
    "\n",
    "scaler = StandardScaler()\n",
    "X_train_scaled = scaler.fit_transform(X_train)\n",
    "X_test_scaled = scaler.transform(X_test)\n",
    "\n",
    "input_size = X_train_scaled.shape[1] \n",
    "output_size = len(np.unique(y_train))\n",
    "hidden_size = 8\n",
    "nn = NeuralNetwork(input_size, hidden_size, output_size)\n",
    "\n",
    "nn.train(X_train_scaled, np.eye(output_size)[y_train], epochs=1000, learning_rate=0.1)\n",
    "\n",
    "y_pred = nn.predict(X_test_scaled)\n",
    "\n",
    "# print(y_pred)\n",
    "\n",
    "accuracy = np.mean(y_pred == np.eye(output_size)[y_test])\n",
    "print(accuracy)\n"
   ]
  },
  {
   "cell_type": "code",
   "execution_count": 96,
   "metadata": {},
   "outputs": [
    {
     "name": "stdout",
     "output_type": "stream",
     "text": [
      "Accuracy: 0.9705882352941176\n"
     ]
    }
   ],
   "source": [
    "import numpy as np\n",
    "from sklearn.datasets import load_iris\n",
    "from sklearn.model_selection import train_test_split\n",
    "from sklearn.preprocessing import StandardScaler\n",
    "\n",
    "class Perceptron:\n",
    "    def __init__(self, input_size, learning_rate=0.1):\n",
    "        self.weights = np.zeros(input_size + 1)  # +1 dėl šališkumo (bias)\n",
    "        self.learning_rate = learning_rate\n",
    "\n",
    "    def activation(self, x):\n",
    "        return np.where(x >= 0, 1, 0)\n",
    "\n",
    "    def predict(self, X):\n",
    "        X_with_bias = np.insert(X, 0, 1, axis=1)  # pridedame šališkumą (bias)\n",
    "        return self.activation(np.dot(X_with_bias, self.weights))\n",
    "\n",
    "    def train(self, X, y, epochs):\n",
    "        X_with_bias = np.insert(X, 0, 1, axis=1)  # pridedame šališkumą (bias)\n",
    "        for _ in range(epochs):\n",
    "            for xi, target in zip(X_with_bias, y):\n",
    "                output = self.activation(np.dot(xi, self.weights))\n",
    "                error = target - output\n",
    "                self.weights += self.learning_rate * error * xi\n",
    "\n",
    "# Duomenų paruošimas\n",
    "df = pd.read_csv('divorce.csv', sep=\";\")\n",
    "X = df.drop(['Class'], axis=1)\n",
    "y = df['Class']\n",
    "\n",
    "# Pasirenkame tik dvi klases (0 ir 1)\n",
    "binary_mask = y < 2\n",
    "X, y = X[binary_mask], y[binary_mask]\n",
    "\n",
    "X_train, X_test, y_train, y_test = train_test_split(X, y, test_size=0.2, random_state=42)\n",
    "\n",
    "scaler = StandardScaler()\n",
    "X_train_scaled = scaler.fit_transform(X_train)\n",
    "X_test_scaled = scaler.transform(X_test)\n",
    "\n",
    "# Perceptrono treniravimas\n",
    "input_size = X_train_scaled.shape[1]\n",
    "perceptron = Perceptron(input_size, learning_rate=0.1)\n",
    "perceptron.train(X_train_scaled, y_train, epochs=1000)\n",
    "\n",
    "# Prognozavimas ir tikslumo skaičiavimas\n",
    "y_pred = perceptron.predict(X_test_scaled)\n",
    "accuracy = np.mean(y_pred == y_test)\n",
    "print(f'Accuracy: {accuracy}')"
   ]
  }
 ],
 "metadata": {
  "kernelspec": {
   "display_name": "mokymai",
   "language": "python",
   "name": "python3"
  },
  "language_info": {
   "codemirror_mode": {
    "name": "ipython",
    "version": 3
   },
   "file_extension": ".py",
   "mimetype": "text/x-python",
   "name": "python",
   "nbconvert_exporter": "python",
   "pygments_lexer": "ipython3",
   "version": "3.12.2"
  }
 },
 "nbformat": 4,
 "nbformat_minor": 2
}
